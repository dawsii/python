{
  "nbformat": 4,
  "nbformat_minor": 0,
  "metadata": {
    "colab": {
      "provenance": [],
      "authorship_tag": "ABX9TyNl4/PcvieqrKijJ014BziB",
      "include_colab_link": true
    },
    "kernelspec": {
      "name": "python3",
      "display_name": "Python 3"
    },
    "language_info": {
      "name": "python"
    }
  },
  "cells": [
    {
      "cell_type": "markdown",
      "metadata": {
        "id": "view-in-github",
        "colab_type": "text"
      },
      "source": [
        "<a href=\"https://colab.research.google.com/github/dawsii/python/blob/main/solveEquation.ipynb\" target=\"_parent\"><img src=\"https://colab.research.google.com/assets/colab-badge.svg\" alt=\"Open In Colab\"/></a>"
      ]
    },
    {
      "cell_type": "code",
      "source": [
        "def solveEquation(equation) :\n",
        "\n",
        "    n = len(equation)\n",
        "    sign = 1\n",
        "    coeff = 0\n",
        "    total = 0\n",
        "    i = 0\n",
        "\n",
        "    # Traverse the equation\n",
        "    for j in range(0, n) :\n",
        "\n",
        "        if (equation[j] == '+' or\n",
        "            equation[j] == '-') :\n",
        "\n",
        "            if (j > i) :\n",
        "                total = (total + sign *\n",
        "                         float(equation[i: j]))\n",
        "            i = j\n",
        "\n",
        "        # For cases such\n",
        "        # as: x, -x, +x\n",
        "        elif (equation[j] == 'x') :\n",
        "\n",
        "            if ((i == j) or\n",
        "                equation[j - 1] == '+') :\n",
        "                coeff += sign\n",
        "            elif (equation[j - 1] == '-') :\n",
        "                coeff = coeff - sign\n",
        "            else :\n",
        "                coeff = (coeff + sign *\n",
        "                         int(equation[i: j]))\n",
        "            i = j + 1\n",
        "\n",
        "        # Flip sign once\n",
        "        # '=' is seen\n",
        "        elif (equation[j] == '=') :\n",
        "\n",
        "            if (j > i) :\n",
        "                total = (total + sign *\n",
        "                         float(equation[i: j]))\n",
        "            sign = -1\n",
        "            i = j + 1\n",
        "\n",
        "    # There may be a number\n",
        "    # left in the end\n",
        "    if (i < n) :\n",
        "        total = (total + sign *\n",
        "                 float(equation[i: len(equation)]))\n",
        "\n",
        "    # For infinite solutions\n",
        "    if (coeff == 0 and\n",
        "        total == 0) :\n",
        "        return \"Infinite solutions\"\n",
        "\n",
        "    # For no solution\n",
        "    if (coeff == 0 and total) :\n",
        "        return \"No solution\"\n",
        "\n",
        "    ans = -total / coeff\n",
        "    return float(ans)\n",
        "\n",
        "equation = \"15x-135=24x+9-9x+126\"\n",
        "print (\"x = {}\" . format(solveEquation(equation)))\n"
      ],
      "metadata": {
        "colab": {
          "base_uri": "https://localhost:8080/"
        },
        "id": "aCWJlKAuiPLb",
        "outputId": "ac67fe69-ecf5-495a-d3e0-cbbf76e5f19d"
      },
      "execution_count": null,
      "outputs": [
        {
          "output_type": "stream",
          "name": "stdout",
          "text": [
            "x = No solution\n"
          ]
        }
      ]
    }
  ]
}